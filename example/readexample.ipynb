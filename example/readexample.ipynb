{
 "cells": [
  {
   "cell_type": "code",
   "execution_count": 1,
   "id": "db9a8d76-6f3f-44fa-b3df-d3b0cdba3119",
   "metadata": {},
   "outputs": [
    {
     "name": "stdout",
     "output_type": "stream",
     "text": [
      "Content of example.txt:\n",
      "this is a test file\n",
      "Welcome to use jup2kub\n",
      "The quick brown fox jumps over the lazy dog\n",
      "\n"
     ]
    }
   ],
   "source": [
    "# Part 1: Reading a text file\n",
    "filename = './data/example.txt'  # Assuming the file is named example.txt\n",
    "with open(filename, 'r') as file:\n",
    "    content = file.read()\n",
    "    print(\"Content of example.txt:\")\n",
    "    print(content)\n",
    "\n",
    "\n"
   ]
  },
  {
   "cell_type": "code",
   "execution_count": 2,
   "id": "ab4b3e46-7aaa-4286-87f4-2cc2423481c7",
   "metadata": {},
   "outputs": [
    {
     "name": "stdout",
     "output_type": "stream",
     "text": [
      "\n",
      "Files in the current directory:\n",
      "Biotextbook.ipynb\n",
      "Biotextbookwithfileaccess.ipynb\n",
      "iris.ipynb\n",
      "Hydrogen.ipynb\n",
      "goexample.ipynb\n",
      "readexample.ipynb\n",
      "jup2kub_iris_withpy.ipynb\n",
      "iris.csv\n",
      "example.py\n",
      "LIGO-example.ipynb\n",
      ".ipynb_checkpoints\n",
      "imageprocess.ipynb\n",
      "longtimecomplexity.ipynb\n",
      "data\n",
      "function.py\n"
     ]
    }
   ],
   "source": [
    "# Part 2: Listing all files in the current directory\n",
    "import os\n",
    "\n",
    "print(\"\\nFiles in the current directory:\")\n",
    "for file in os.listdir('.'):\n",
    "    print(file)"
   ]
  },
  {
   "cell_type": "code",
   "execution_count": 4,
   "id": "41011f7d",
   "metadata": {},
   "outputs": [
    {
     "name": "stdout",
     "output_type": "stream",
     "text": [
      "'Hello World' has been written to ./data/hello_world.txt\n"
     ]
    }
   ],
   "source": [
    "directory = \"./data\"\n",
    "file_path = os.path.join(directory, \"hello_world.txt\")\n",
    "\n",
    "# Ensure the directory exists\n",
    "if not os.path.exists(directory):\n",
    "    os.makedirs(directory)\n",
    "\n",
    "# Write \"Hello World\" to the file\n",
    "with open(file_path, \"w\") as file:\n",
    "    file.write(\"Hello World\")\n",
    "\n",
    "print(f\"'Hello World' has been written to {file_path}\")"
   ]
  },
  {
   "cell_type": "code",
   "execution_count": null,
   "id": "40aa4d25",
   "metadata": {},
   "outputs": [],
   "source": []
  }
 ],
 "metadata": {
  "kernelspec": {
   "display_name": "Python 3 (ipykernel)",
   "language": "python",
   "name": "python3"
  },
  "language_info": {
   "codemirror_mode": {
    "name": "ipython",
    "version": 3
   },
   "file_extension": ".py",
   "mimetype": "text/x-python",
   "name": "python",
   "nbconvert_exporter": "python",
   "pygments_lexer": "ipython3",
   "version": "3.9.16"
  }
 },
 "nbformat": 4,
 "nbformat_minor": 5
}
