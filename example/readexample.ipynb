{
 "cells": [
  {
   "cell_type": "code",
   "execution_count": null,
   "id": "db9a8d76-6f3f-44fa-b3df-d3b0cdba3119",
   "metadata": {},
   "outputs": [],
   "source": [
    "# Part 1: Reading a text file\n",
    "filename = 'example.txt'  # Assuming the file is named example.txt\n",
    "with open(filename, 'r') as file:\n",
    "    content = file.read()\n",
    "    print(\"Content of example.txt:\")\n",
    "    print(content)\n",
    "\n",
    "\n"
   ]
  },
  {
   "cell_type": "code",
   "execution_count": null,
   "id": "ab4b3e46-7aaa-4286-87f4-2cc2423481c7",
   "metadata": {},
   "outputs": [],
   "source": [
    "# Part 2: Listing all files in the current directory\n",
    "import os\n",
    "\n",
    "print(\"\\nFiles in the current directory:\")\n",
    "for file in os.listdir('.'):\n",
    "    print(file)"
   ]
  }
 ],
 "metadata": {
  "kernelspec": {
   "display_name": "Python 3 (ipykernel)",
   "language": "python",
   "name": "python3"
  },
  "language_info": {
   "codemirror_mode": {
    "name": "ipython",
    "version": 3
   },
   "file_extension": ".py",
   "mimetype": "text/x-python",
   "name": "python",
   "nbconvert_exporter": "python",
   "pygments_lexer": "ipython3",
   "version": "3.12.1"
  }
 },
 "nbformat": 4,
 "nbformat_minor": 5
}
