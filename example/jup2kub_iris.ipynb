{
 "cells": [
  {
   "cell_type": "code",
   "execution_count": 1,
   "metadata": {
    "id": "jr9-Nn1o4SSc"
   },
   "outputs": [],
   "source": [
    "\n",
    "import pandas as pd\n",
    "import matplotlib.pyplot as plt\n",
    "from io import StringIO\n"
   ]
  },
  {
   "cell_type": "code",
   "execution_count": null,
   "metadata": {},
   "outputs": [],
   "source": []
  },
  {
   "cell_type": "code",
   "execution_count": 2,
   "metadata": {
    "id": "w8FJEm1N4YWs"
   },
   "outputs": [],
   "source": [
    "\n",
    "# create data\n",
    "data = \"\"\"\n",
    "sepal_length,sepal_width,petal_length,petal_width,species\n",
    "5.1,3.5,1.4,0.2,setosa\n",
    "4.9,3.0,1.4,0.2,setosa\n",
    "4.7,3.2,1.3,0.2,setosa\n",
    "4.6,3.1,1.5,0.2,setosa\n",
    "5.0,3.6,1.4,0.2,setosa\n",
    "5.4,3.9,1.7,0.4,setosa\n",
    "4.6,3.4,1.4,0.3,setosa\n",
    "5.0,3.4,1.5,0.2,setosa\n",
    "4.4,2.9,1.4,0.2,setosa\n",
    "4.9,3.1,1.5,0.1,setosa\n",
    "7.0,3.2,4.7,1.4,versicolor\n",
    "6.4,3.2,4.5,1.5,versicolor\n",
    "6.9,3.1,4.9,1.5,versicolor\n",
    "5.5,2.3,4.0,1.3,versicolor\n",
    "6.5,2.8,4.6,1.5,versicolor\n",
    "5.7,2.8,4.5,1.3,versicolor\n",
    "6.3,3.3,4.7,1.6,versicolor\n",
    "4.9,2.4,3.3,1.0,versicolor\n",
    "6.6,2.9,4.6,1.3,versicolor\n",
    "5.2,2.7,3.9,1.4,versicolor\n",
    "6.3,3.3,6.0,2.5,virginica\n",
    "5.8,2.7,5.1,1.9,virginica\n",
    "7.1,3.0,5.9,2.1,virginica\n",
    "6.3,2.9,5.6,1.8,virginica\n",
    "6.5,3.0,5.8,2.2,virginica\n",
    "7.6,3.0,6.6,2.1,virginica\n",
    "4.9,2.5,4.5,1.7,virginica\n",
    "7.3,2.9,6.3,1.8,virginica\n",
    "6.7,2.5,5.8,1.8,virginica\n",
    "7.2,3.6,6.1,2.5,virginica\n",
    "\"\"\"\n",
    "\n",
    "\n"
   ]
  },
  {
   "cell_type": "code",
   "execution_count": 3,
   "metadata": {
    "colab": {
     "base_uri": "https://localhost:8080/"
    },
    "id": "ouEyWjSS4Z-7",
    "outputId": "08d4f11a-0415-4f0c-e315-cc477e8a6063"
   },
   "outputs": [
    {
     "name": "stdout",
     "output_type": "stream",
     "text": [
      "       sepal_length  sepal_width  petal_length  petal_width\n",
      "count     30.000000    30.000000     30.000000    30.000000\n",
      "mean       5.843333     3.040000      3.863333     1.213333\n",
      "std        0.964073     0.372873      1.881394     0.789034\n",
      "min        4.400000     2.300000      1.300000     0.100000\n",
      "25%        4.925000     2.825000      1.500000     0.225000\n",
      "50%        5.750000     3.000000      4.500000     1.400000\n",
      "75%        6.575000     3.275000      5.475000     1.800000\n",
      "max        7.600000     3.900000      6.600000     2.500000\n"
     ]
    }
   ],
   "source": [
    "#read and process\n",
    "iris_data = pd.read_csv(StringIO(data))\n",
    "\n",
    "iris_data = iris_data.dropna()\n",
    "\n",
    "\n",
    "print(iris_data.describe())\n",
    "\n"
   ]
  },
  {
   "cell_type": "code",
   "execution_count": 4,
   "metadata": {
    "colab": {
     "base_uri": "https://localhost:8080/",
     "height": 472
    },
    "id": "qdKOfM7H4c1J",
    "outputId": "4cb5c352-a452-44ee-f712-38677131f74f"
   },
   "outputs": [
    {
     "data": {
      "image/png": "[encoded data removed]",
      "text/plain": [
       "<Figure size 640x480 with 1 Axes>"
      ]
     },
     "metadata": {},
     "output_type": "display_data"
    }
   ],
   "source": [
    "# visualization\n",
    "plt.scatter(iris_data['petal_length'], iris_data['petal_width'])\n",
    "plt.xlabel('Petal Length')\n",
    "plt.ylabel('Petal Width')\n",
    "plt.title('Iris Petal Length vs Width')\n",
    "plt.show()"
   ]
  },
  {
   "cell_type": "code",
   "execution_count": null,
   "metadata": {},
   "outputs": [],
   "source": []
  },
  {
   "cell_type": "code",
   "execution_count": null,
   "metadata": {},
   "outputs": [],
   "source": []
  },
  {
   "cell_type": "code",
   "execution_count": null,
   "metadata": {},
   "outputs": [],
   "source": []
  }
 ],
 "metadata": {
  "colab": {
   "provenance": []
  },
  "kernelspec": {
   "display_name": "Python 3 (ipykernel)",
   "language": "python",
   "name": "python3"
  },
  "language_info": {
   "codemirror_mode": {
    "name": "ipython",
    "version": 3
   },
   "file_extension": ".py",
   "mimetype": "text/x-python",
   "name": "python",
   "nbconvert_exporter": "python",
   "pygments_lexer": "ipython3",
   "version": "3.11.4"
  }
 },
 "nbformat": 4,
 "nbformat_minor": 4
}
