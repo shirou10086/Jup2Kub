{
 "cells": [
  {
   "cell_type": "code",
   "execution_count": 11,
   "metadata": {},
   "outputs": [],
   "source": [
    "import numpy as np\n",
    "import os\n",
    "output_file_dir = './data'\n",
    "n_iteration = 1000"
   ]
  },
  {
   "cell_type": "code",
   "execution_count": 12,
   "metadata": {},
   "outputs": [],
   "source": [
    "for i1 in range(1000):\n",
    "    random_numbers1 = np.random.randint(1, 100000, 100000)\n",
    "    sorted(random_numbers1)\n",
    "\n",
    "with open(os.path.join(output_file_dir, \"quick_sort_times.txt\"), \"w\") as file:\n",
    "    file.write(\"cell 2 finished\")"
   ]
  },
  {
   "cell_type": "code",
   "execution_count": 13,
   "metadata": {},
   "outputs": [],
   "source": [
    "for i2 in range(1000):\n",
    "    random_numbers2 = np.random.randint(1, 100000, 100000)\n",
    "    sorted(random_numbers2)\n",
    "\n",
    "with open(os.path.join(output_file_dir, \"quick_sort_times.txt\"), \"w\") as file:\n",
    "    file.write(\"cell 3 finished\")"
   ]
  },
  {
   "cell_type": "code",
   "execution_count": 14,
   "metadata": {},
   "outputs": [],
   "source": [
    "for i3 in range(1000):\n",
    "    random_numbers3 = np.random.randint(1, 100000, 100000)\n",
    "    sorted(random_numbers3)\n",
    "\n",
    "with open(os.path.join(output_file_dir, \"quick_sort_times.txt\"), \"w\") as file:\n",
    "    file.write(\"cell 4 finished\")"
   ]
  },
  {
   "cell_type": "code",
   "execution_count": 15,
   "metadata": {},
   "outputs": [],
   "source": [
    "for i4 in range(1000):\n",
    "    random_numbers4 = np.random.randint(1, 100000, 100000)\n",
    "    sorted(random_numbers4)\n",
    "\n",
    "with open(os.path.join(output_file_dir, \"quick_sort_times.txt\"), \"w\") as file:\n",
    "    file.write(\"cell 5 finished\")"
   ]
  }
 ],
 "metadata": {
  "kernelspec": {
   "display_name": "base",
   "language": "python",
   "name": "python3"
  },
  "language_info": {
   "codemirror_mode": {
    "name": "ipython",
    "version": 3
   },
   "file_extension": ".py",
   "mimetype": "text/x-python",
   "name": "python",
   "nbconvert_exporter": "python",
   "pygments_lexer": "ipython3",
   "version": "3.9.16"
  }
 },
 "nbformat": 4,
 "nbformat_minor": 2
}
