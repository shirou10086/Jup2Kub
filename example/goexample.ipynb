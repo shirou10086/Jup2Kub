{
 "cells": [
  {
   "cell_type": "code",
   "execution_count": 1,
   "id": "2433355f-1ec3-4286-846e-af0b0ca74f4e",
   "metadata": {},
   "outputs": [],
   "source": [
    "import (\n",
    "    \"fmt\"\n",
    "    \"github.com/tidwall/gjson\"\n",
    ")\n"
   ]
  },
  {
   "cell_type": "code",
   "execution_count": 2,
   "id": "d341e7a3-ad82-4be1-bf6e-2cd8fc39d8e5",
   "metadata": {},
   "outputs": [],
   "source": [
    "jsonString := `{\"name\": \"John Doe\", \"age\": 30, \"city\": \"New York\"}`\n"
   ]
  },
  {
   "cell_type": "code",
   "execution_count": 3,
   "id": "a0a5cfae-441d-4718-bfcf-e6deb4e77250",
   "metadata": {},
   "outputs": [
    {
     "ename": "ERROR",
     "evalue": "repl.go:2:9: undefined identifier: gjson",
     "output_type": "error",
     "traceback": [
      "repl.go:2:9: undefined identifier: gjson"
     ]
    }
   ],
   "source": [
    "// Get the value for the name field\n",
    "name := gjson.Get(jsonString, \"name\")\n",
    "fmt.Println(\"Name:\", name.String())\n",
    "\n",
    "// Get the age\n",
    "age := gjson.Get(jsonString, \"age\")\n",
    "fmt.Println(\"Age:\", age.Int())\n",
    "\n",
    "// Get the city\n",
    "city := gjson.Get(jsonString, \"city\")\n",
    "fmt.Println(\"City:\", city.String())\n"
   ]
  },
  {
   "cell_type": "code",
   "execution_count": 4,
   "id": "58af85b9-33e8-4bf5-9604-051fdb6e1b33",
   "metadata": {},
   "outputs": [
    {
     "ename": "ERROR",
     "evalue": "repl.go:2:11: undefined identifier: gjson",
     "output_type": "error",
     "traceback": [
      "repl.go:2:11: undefined identifier: gjson"
     ]
    }
   ],
   "source": [
    "complexJson := `{\"data\": [{\"type\": \"post\", \"id\": \"1\", \"title\": \"Hello World\"}]}`\n",
    "titles := gjson.Get(complexJson, \"data.#.title\")\n",
    "for _, title := range titles.Array() {\n",
    "    fmt.Println(\"Post Title:\", title.String())\n",
    "}\n"
   ]
  }
 ],
 "metadata": {
  "kernelspec": {
   "display_name": "Go",
   "language": "go",
   "name": "gophernotes"
  },
  "language_info": {
   "codemirror_mode": "",
   "file_extension": ".go",
   "mimetype": "",
   "name": "go",
   "nbconvert_exporter": "",
   "pygments_lexer": "",
   "version": "go1.22.1"
  }
 },
 "nbformat": 4,
 "nbformat_minor": 5
}
