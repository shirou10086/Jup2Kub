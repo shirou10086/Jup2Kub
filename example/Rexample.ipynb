{
 "cells": [
  {
   "cell_type": "code",
   "execution_count": null,
   "id": "845692b5-3d54-437b-bc16-275e26832103",
   "metadata": {},
   "outputs": [],
   "source": [
    "#R\n",
    "# Check if ggplot2 is installed and load it, install if it's not already installed\n",
    "if (!require(ggplot2)) install.packages(\"ggplot2\", dependencies = TRUE)\n",
    "library(ggplot2)\n",
    "# Create a data frame with names, ages, and salaries\n",
    "data <- data.frame(\n",
    "  Name = c(\"Alice\", \"Bob\", \"Charlie\", \"David\", \"Eva\"),\n",
    "  Age = c(25, 30, 35, 40, 45),\n",
    "  Salary = c(50000, 54000, 65000, 48000, 50000)\n",
    ")"
   ]
  },
  {
   "cell_type": "code",
   "execution_count": null,
   "id": "03cae070-3650-42d3-9a64-0e334f5a5353",
   "metadata": {},
   "outputs": [],
   "source": [
    "#R\n",
    "# Calculate the average age and print it\n",
    "average_age <- mean(data$Age)\n",
    "print(paste(\"Average Age:\", average_age))\n",
    "# Create a scatter plot of Age vs Salary using ggplot2\n",
    "ggplot(data, aes(x = Age, y = Salary, label = Name)) + \n",
    "  geom_point(size = 3, color = \"blue\") +  # Add blue points to the plot\n",
    "  geom_text(vjust = -0.5, hjust = 0.5, color = \"black\") +  # Add text labels just above the points\n",
    "  labs(title = \"Age vs Salary\", x = \"Age\", y = \"Salary\") +  # Set the title and axis labels\n",
    "  theme_minimal()  # Apply a minimal theme for a clean look\n"
   ]
  },
  {
   "cell_type": "code",
   "execution_count": null,
   "id": "30042d42-27cb-4f5f-adb1-6abce6c13275",
   "metadata": {},
   "outputs": [],
   "source": [
    "import numpy as np\n",
    "import matplotlib.pyplot as plt\n",
    "# Generate some random data\n",
    "x = np.random.rand(100)\n",
    "y = x + np.random.normal(0, 0.1, 100)  # Add some noise\n",
    "\n",
    "# Generate a linear trend line\n",
    "m, b = np.polyfit(x, y, 1)\n",
    "trend_line = m*x + b\n"
   ]
  },
  {
   "cell_type": "code",
   "execution_count": null,
   "id": "726b8cca-240a-493b-bf28-01d28d5fd5da",
   "metadata": {},
   "outputs": [],
   "source": [
    "plt.scatter(x, y, label='Data points')\n",
    "plt.plot(x, trend_line, color='red', label='Trend line')\n",
    "plt.xlabel('X values')\n",
    "plt.ylabel('Y values')\n",
    "plt.title('Random Data with Trend Line')\n",
    "plt.legend()\n",
    "plt.show()\n"
   ]
  }
 ],
 "metadata": {
  "kernelspec": {
   "display_name": "Python 3 (ipykernel)",
   "language": "python",
   "name": "python3"
  },
  "language_info": {
   "codemirror_mode": {
    "name": "ipython",
    "version": 3
   },
   "file_extension": ".py",
   "mimetype": "text/x-python",
   "name": "python",
   "nbconvert_exporter": "python",
   "pygments_lexer": "ipython3",
   "version": "3.12.1"
  }
 },
 "nbformat": 4,
 "nbformat_minor": 5
}
