{
 "cells": [
  {
   "cell_type": "code",
   "execution_count": 1,
   "id": "845692b5-3d54-437b-bc16-275e26832103",
   "metadata": {},
   "outputs": [
    {
     "ename": "SyntaxError",
     "evalue": "invalid syntax (220143107.py, line 2)",
     "output_type": "error",
     "traceback": [
      "\u001b[1;36m  Cell \u001b[1;32mIn[1], line 2\u001b[1;36m\u001b[0m\n\u001b[1;33m    if (!require(ggplot2)) install.packages(\"ggplot2\", dependencies = TRUE)\u001b[0m\n\u001b[1;37m        ^\u001b[0m\n\u001b[1;31mSyntaxError\u001b[0m\u001b[1;31m:\u001b[0m invalid syntax\n"
     ]
    }
   ],
   "source": [
    "# Check if ggplot2 is installed and load it, install if it's not already installed\n",
    "if (!require(ggplot2)) install.packages(\"ggplot2\", dependencies = TRUE)\n",
    "library(ggplot2)\n"
   ]
  },
  {
   "cell_type": "code",
   "execution_count": null,
   "id": "65912ec4-d080-4ebb-a143-8b821d7c8545",
   "metadata": {},
   "outputs": [],
   "source": [
    "# Create a data frame with names, ages, and salaries\n",
    "data <- data.frame(\n",
    "  Name = c(\"Alice\", \"Bob\", \"Charlie\", \"David\", \"Eva\"),\n",
    "  Age = c(25, 30, 35, 40, 45),\n",
    "  Salary = c(50000, 54000, 65000, 48000, 50000)\n",
    ")\n"
   ]
  },
  {
   "cell_type": "code",
   "execution_count": null,
   "id": "5a517336-f110-47c6-bbb8-1d8b5c5a453b",
   "metadata": {},
   "outputs": [],
   "source": [
    "# Calculate the average age and print it\n",
    "average_age <- mean(data$Age)\n",
    "print(paste(\"Average Age:\", average_age))\n"
   ]
  },
  {
   "cell_type": "code",
   "execution_count": null,
   "id": "03cae070-3650-42d3-9a64-0e334f5a5353",
   "metadata": {},
   "outputs": [],
   "source": [
    "# Create a scatter plot of Age vs Salary using ggplot2\n",
    "ggplot(data, aes(x = Age, y = Salary, label = Name)) + \n",
    "  geom_point(size = 3, color = \"blue\") +  # Add blue points to the plot\n",
    "  geom_text(vjust = -0.5, hjust = 0.5, color = \"black\") +  # Add text labels just above the points\n",
    "  labs(title = \"Age vs Salary\", x = \"Age\", y = \"Salary\") +  # Set the title and axis labels\n",
    "  theme_minimal()  # Apply a minimal theme for a clean look\n"
   ]
  }
 ],
 "metadata": {
  "kernelspec": {
   "display_name": "Python 3 (ipykernel)",
   "language": "python",
   "name": "python3"
  },
  "language_info": {
   "codemirror_mode": {
    "name": "ipython",
    "version": 3
   },
   "file_extension": ".py",
   "mimetype": "text/x-python",
   "name": "python",
   "nbconvert_exporter": "python",
   "pygments_lexer": "ipython3",
   "version": "3.12.1"
  }
 },
 "nbformat": 4,
 "nbformat_minor": 5
}
