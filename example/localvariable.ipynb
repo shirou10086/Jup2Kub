{
 "cells": [
  {
   "cell_type": "code",
   "execution_count": 1,
   "id": "667d2a77-b8b1-48d9-8894-d413a333878e",
   "metadata": {},
   "outputs": [],
   "source": [
    "total=0\n",
    "for number in range(10):  \n",
    "        total += number"
   ]
  },
  {
   "cell_type": "code",
   "execution_count": 2,
   "id": "af7da541-63ef-4a4a-b9e7-998825a5b5f3",
   "metadata": {},
   "outputs": [],
   "source": [
    "def helper(ans):\n",
    "    for number in range(10):  \n",
    "            ans += number\n",
    "    return ans\n",
    "total =helper(total)"
   ]
  },
  {
   "cell_type": "code",
   "execution_count": 3,
   "id": "0f0e84d7-4737-4f4f-a951-ae33fad661a9",
   "metadata": {},
   "outputs": [
    {
     "name": "stdout",
     "output_type": "stream",
     "text": [
      "90\n"
     ]
    }
   ],
   "source": [
    "print(total)\n"
   ]
  },
  {
   "cell_type": "code",
   "execution_count": 4,
   "id": "f8c61a7b-5542-4656-b6ed-0f6eb814218c",
   "metadata": {},
   "outputs": [
    {
     "name": "stdout",
     "output_type": "stream",
     "text": [
      "5\n"
     ]
    }
   ],
   "source": [
    "total=5\n",
    "print(total)\n"
   ]
  }
 ],
 "metadata": {
  "kernelspec": {
   "display_name": "Python 3 (ipykernel)",
   "language": "python",
   "name": "python3"
  },
  "language_info": {
   "codemirror_mode": {
    "name": "ipython",
    "version": 3
   },
   "file_extension": ".py",
   "mimetype": "text/x-python",
   "name": "python",
   "nbconvert_exporter": "python",
   "pygments_lexer": "ipython3",
   "version": "3.12.1"
  }
 },
 "nbformat": 4,
 "nbformat_minor": 5
}
