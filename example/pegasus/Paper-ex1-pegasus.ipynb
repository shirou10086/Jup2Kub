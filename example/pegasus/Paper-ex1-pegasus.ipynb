{
 "cells": [
  {
   "cell_type": "code",
   "execution_count": null,
   "id": "8ef8c668-291b-4292-9cac-66075af102a2",
   "metadata": {},
   "outputs": [],
   "source": [
    "%%writefile fibonacci.py\n",
    "import sys\n",
    "\n",
    "def fib(n):\n",
    "    a, b = 0, 1\n",
    "    for _ in range(n):\n",
    "        a, b = b, a + b\n",
    "    return a\n",
    "\n",
    "if __name__ == \"__main__\":\n",
    "    n = int(sys.argv[1])\n",
    "    result = fib(n)\n",
    "    print(result)\n"
   ]
  },
  {
   "cell_type": "code",
   "execution_count": null,
   "id": "1b61f930-571f-4552-80f0-f95aa5a81084",
   "metadata": {},
   "outputs": [],
   "source": [
    "%%writefile factorial.py\n",
    "import sys\n",
    "\n",
    "def fact(n):\n",
    "    if n > 1:\n",
    "        return n * fact(n - 1)\n",
    "    return 1\n",
    "\n",
    "if __name__ == \"__main__\":\n",
    "    n = int(sys.argv[1])\n",
    "    result = fact(n)\n",
    "    print(result)\n"
   ]
  },
  {
   "cell_type": "code",
   "execution_count": null,
   "id": "da3d4476-e20e-4fdb-b031-52a7502daa94",
   "metadata": {},
   "outputs": [],
   "source": [
    "%%writefile plot.py\n",
    "import matplotlib.pyplot as plt\n",
    "import sys\n",
    "\n",
    "fib_x = int(sys.argv[1])\n",
    "fact_x = int(sys.argv[2])\n",
    "\n",
    "plt.figure(figsize=(10, 6))\n",
    "plt.bar([\"fib(x)\", \"fact(x)\"], [fib_x, fact_x], log=True)\n",
    "plt.yscale(\"log\")\n",
    "plt.text(0, fib_x, str(fib_x), ha='center', va='bottom')\n",
    "plt.text(1, fact_x, str(fact_x), ha='center', va='bottom')\n",
    "plt.savefig(\"plot.png\")\n",
    "plt.close()\n"
   ]
  },
  {
   "cell_type": "code",
   "execution_count": null,
   "id": "8517a8a1-8628-41e5-a39b-8cdcb6dbd2c6",
   "metadata": {},
   "outputs": [],
   "source": [
    "from Pegasus.api import *\n",
    "\n",
    "# properties here\n",
    "props = Properties()\n",
    "props[\"pegasus.mode\"] = \"development\"\n",
    "\n",
    "sc = SiteCatalog()\n",
    "local = Site(\"local\", arch=Arch.X86_64, os_type=OS.LINUX)\n",
    "local.add_directories(Directory(Directory.SHARED_SCRATCH, path=\"/tmp/scratch\"))\n",
    "sc.add_sites(local)\n",
    "\n",
    "# Define the workflow\n",
    "wf = Workflow(\"math_operations\")\n",
    "\n",
    "# jobs\n",
    "job_fib = Job(\"fibonacci.py\")\n",
    "job_fib.add_args(\"35\")\n",
    "job_fib.set_stdout(\"fibonacci_output.txt\")\n",
    "\n",
    "job_fact = Job(\"factorial.py\")\n",
    "job_fact.add_args(\"35\")\n",
    "job_fact.set_stdout(\"factorial_output.txt\")\n",
    "\n",
    "job_plot = Job(\"plot.py\")\n",
    "job_plot.add_args(\"$(job_fib.stdout)\", \"$(job_fact.stdout)\")\n",
    "job_plot.set_stdout(\"plot.png\")\n",
    "\n",
    "\n",
    "wf.add_jobs(job_fib, job_fact, job_plot)\n",
    "wf.add_dependency(job_fib, children=[job_plot])\n",
    "wf.add_dependency(job_fact, children=[job_plot])\n",
    "\n",
    "# yml file \n",
    "wf.write(file=\"math_operations.yml\")\n",
    "\n",
    "# Run the workflow\n",
    "!pegasus-plan --conf pegasus.properties --sites local --dir work --dax math_operations.yml --output-site local --submit\n"
   ]
  }
 ],
 "metadata": {
  "kernelspec": {
   "display_name": "Python 3 (ipykernel)",
   "language": "python",
   "name": "python3"
  },
  "language_info": {
   "codemirror_mode": {
    "name": "ipython",
    "version": 3
   },
   "file_extension": ".py",
   "mimetype": "text/x-python",
   "name": "python",
   "nbconvert_exporter": "python",
   "pygments_lexer": "ipython3",
   "version": "3.12.1"
  }
 },
 "nbformat": 4,
 "nbformat_minor": 5
}
