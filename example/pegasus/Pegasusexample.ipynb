{
 "cells": [
  {
   "cell_type": "code",
   "execution_count": 1,
   "id": "38bf7a5c-ba21-4934-8aad-25cf87deae34",
   "metadata": {},
   "outputs": [],
   "source": [
    "#Step1: \"pip install numpy pegasus-wms.api\"\n"
   ]
  },
  {
   "cell_type": "code",
   "execution_count": 2,
   "id": "1d2e3e32-ed02-4ff3-b325-03df92ea438b",
   "metadata": {},
   "outputs": [],
   "source": [
    "import numpy as np\n",
    "from Pegasus.api import *\n",
    "import time"
   ]
  },
  {
   "cell_type": "code",
   "execution_count": 3,
   "id": "9aadfcd6-acbd-407a-a7a3-fc649510846f",
   "metadata": {},
   "outputs": [
    {
     "name": "stdout",
     "output_type": "stream",
     "text": [
      "Writing merge_sort_script.py\n"
     ]
    }
   ],
   "source": [
    "%%writefile merge_sort_script.py\n",
    "import sys\n",
    "import numpy as np\n",
    "import time\n",
    "\n",
    "def merge_sort(arr):\n",
    "    if len(arr) > 1:\n",
    "        mid = len(arr) // 2\n",
    "        L = arr[:mid]\n",
    "        R = arr[mid:]\n",
    "\n",
    "        merge_sort(L)\n",
    "        merge_sort(R)\n",
    "\n",
    "        i = j = k = 0\n",
    "        while i < len(L) and j < len(R):\n",
    "            if L[i] < R[j]:\n",
    "                arr[k] = L[i]\n",
    "                i += 1\n",
    "            else:\n",
    "                arr[k] = R[j]\n",
    "                j += 1\n",
    "            k += 1\n",
    "\n",
    "        while i < len(L):\n",
    "            arr[k] = L[i]\n",
    "            i += 1\n",
    "            k += 1\n",
    "\n",
    "        while j < len(R):\n",
    "            arr[k] = R[j]\n",
    "            j += 1\n",
    "            k += 1\n",
    "\n",
    "if __name__ == \"__main__\":\n",
    "    arr = np.fromstring(sys.argv[1], sep=',')\n",
    "    start_time = time.time()\n",
    "    merge_sort(arr)\n",
    "    end_time = time.time()\n",
    "    print(f\"Merge sort time: {end_time - start_time} seconds\")\n"
   ]
  },
  {
   "cell_type": "code",
   "execution_count": 4,
   "id": "73fa30f6-8fc8-4cf8-b249-3b77cd870f83",
   "metadata": {},
   "outputs": [
    {
     "name": "stdout",
     "output_type": "stream",
     "text": [
      "Writing bubble_sort_script.py\n"
     ]
    }
   ],
   "source": [
    "%%writefile bubble_sort_script.py\n",
    "import sys\n",
    "import numpy as np\n",
    "import time\n",
    "\n",
    "def bubble_sort(arr):\n",
    "    n = len(arr)\n",
    "    for i in range(n):\n",
    "        for j in range(0, n-i-1):\n",
    "            if arr[j] > arr[j+1]:\n",
    "                arr[j], arr[j+1] = arr[j+1], arr[j]\n",
    "\n",
    "if __name__ == \"__main__\":\n",
    "    n_iteration = int(sys.argv[2])\n",
    "    results = []\n",
    "    for i in range(n_iteration):\n",
    "        arr = np.random.randint(1, 10000, 10000)\n",
    "        start_time = time.time()\n",
    "        bubble_sort(arr)\n",
    "        end_time = time.time()\n",
    "        results.append(end_time - start_time)\n",
    "    \n",
    "    avg_time = sum(results) / n_iteration\n",
    "    current_time = time.strftime(\"%Y-%m-%d %H:%M:%S\", time.localtime())\n",
    "    output = f\"Function run time: {avg_time} seconds\\nCurrent time: {current_time}\"\n",
    "    print(output)\n"
   ]
  },
  {
   "cell_type": "code",
   "execution_count": 8,
   "id": "61cf627f-2133-4d25-8f2f-9706dc1263cf",
   "metadata": {},
   "outputs": [
    {
     "ename": "ValueError",
     "evalue": "PEGASUS_HOME not found",
     "output_type": "error",
     "traceback": [
      "\u001b[1;31m---------------------------------------------------------------------------\u001b[0m",
      "\u001b[1;31mValueError\u001b[0m                                Traceback (most recent call last)",
      "Cell \u001b[1;32mIn[8], line 41\u001b[0m\n\u001b[0;32m     38\u001b[0m wf\u001b[38;5;241m.\u001b[39madd_jobs(merge_job, bubble_job)\n\u001b[0;32m     40\u001b[0m \u001b[38;5;66;03m# 计划和提交工作流\u001b[39;00m\n\u001b[1;32m---> 41\u001b[0m \u001b[43mwf\u001b[49m\u001b[38;5;241;43m.\u001b[39;49m\u001b[43mplan\u001b[49m\u001b[43m(\u001b[49m\u001b[43msubmit\u001b[49m\u001b[38;5;241;43m=\u001b[39;49m\u001b[38;5;28;43;01mTrue\u001b[39;49;00m\u001b[43m)\u001b[49m\n",
      "File \u001b[1;32m~\\AppData\\Local\\Programs\\Python\\Python312\\Lib\\site-packages\\Pegasus\\api\\_utils.py:85\u001b[0m, in \u001b[0;36m_chained.<locals>.wrapper\u001b[1;34m(self, *args, **kwargs)\u001b[0m\n\u001b[0;32m     83\u001b[0m \u001b[38;5;129m@wraps\u001b[39m(f)\n\u001b[0;32m     84\u001b[0m \u001b[38;5;28;01mdef\u001b[39;00m \u001b[38;5;21mwrapper\u001b[39m(\u001b[38;5;28mself\u001b[39m, \u001b[38;5;241m*\u001b[39margs, \u001b[38;5;241m*\u001b[39m\u001b[38;5;241m*\u001b[39mkwargs):\n\u001b[1;32m---> 85\u001b[0m     \u001b[38;5;28;01massert\u001b[39;00m \u001b[43mf\u001b[49m\u001b[43m(\u001b[49m\u001b[38;5;28;43mself\u001b[39;49m\u001b[43m,\u001b[49m\u001b[43m \u001b[49m\u001b[38;5;241;43m*\u001b[39;49m\u001b[43margs\u001b[49m\u001b[43m,\u001b[49m\u001b[43m \u001b[49m\u001b[38;5;241;43m*\u001b[39;49m\u001b[38;5;241;43m*\u001b[39;49m\u001b[43mkwargs\u001b[49m\u001b[43m)\u001b[49m \u001b[38;5;241m==\u001b[39m \u001b[38;5;28;01mNone\u001b[39;00m\n\u001b[0;32m     86\u001b[0m     \u001b[38;5;28;01mreturn\u001b[39;00m \u001b[38;5;28mself\u001b[39m\n",
      "File \u001b[1;32m~\\AppData\\Local\\Programs\\Python\\Python312\\Lib\\site-packages\\Pegasus\\api\\workflow.py:942\u001b[0m, in \u001b[0;36m_needs_client.<locals>.wrapper\u001b[1;34m(self, *args, **kwargs)\u001b[0m\n\u001b[0;32m    939\u001b[0m \u001b[38;5;129m@wraps\u001b[39m(f)\n\u001b[0;32m    940\u001b[0m \u001b[38;5;28;01mdef\u001b[39;00m \u001b[38;5;21mwrapper\u001b[39m(\u001b[38;5;28mself\u001b[39m, \u001b[38;5;241m*\u001b[39margs, \u001b[38;5;241m*\u001b[39m\u001b[38;5;241m*\u001b[39mkwargs):\n\u001b[0;32m    941\u001b[0m     \u001b[38;5;28;01mif\u001b[39;00m \u001b[38;5;129;01mnot\u001b[39;00m \u001b[38;5;28mself\u001b[39m\u001b[38;5;241m.\u001b[39m_client:\n\u001b[1;32m--> 942\u001b[0m         \u001b[38;5;28mself\u001b[39m\u001b[38;5;241m.\u001b[39m_client \u001b[38;5;241m=\u001b[39m \u001b[43mfrom_env\u001b[49m\u001b[43m(\u001b[49m\u001b[43m)\u001b[49m\n\u001b[0;32m    944\u001b[0m     \u001b[38;5;28;01mreturn\u001b[39;00m f(\u001b[38;5;28mself\u001b[39m, \u001b[38;5;241m*\u001b[39margs, \u001b[38;5;241m*\u001b[39m\u001b[38;5;241m*\u001b[39mkwargs)\n",
      "File \u001b[1;32m~\\AppData\\Local\\Programs\\Python\\Python312\\Lib\\site-packages\\Pegasus\\client\\_client.py:37\u001b[0m, in \u001b[0;36mfrom_env\u001b[1;34m(pegasus_home)\u001b[0m\n\u001b[0;32m     34\u001b[0m     pegasus_version_path \u001b[38;5;241m=\u001b[39m shutil\u001b[38;5;241m.\u001b[39mwhich(\u001b[38;5;124m\"\u001b[39m\u001b[38;5;124mpegasus-version\u001b[39m\u001b[38;5;124m\"\u001b[39m)\n\u001b[0;32m     36\u001b[0m     \u001b[38;5;28;01mif\u001b[39;00m \u001b[38;5;129;01mnot\u001b[39;00m pegasus_version_path:\n\u001b[1;32m---> 37\u001b[0m         \u001b[38;5;28;01mraise\u001b[39;00m \u001b[38;5;167;01mValueError\u001b[39;00m(\u001b[38;5;124m\"\u001b[39m\u001b[38;5;124mPEGASUS_HOME not found\u001b[39m\u001b[38;5;124m\"\u001b[39m)\n\u001b[0;32m     39\u001b[0m     pegasus_home \u001b[38;5;241m=\u001b[39m path\u001b[38;5;241m.\u001b[39mdirname(path\u001b[38;5;241m.\u001b[39mdirname(pegasus_version_path))\n\u001b[0;32m     41\u001b[0m \u001b[38;5;28;01mreturn\u001b[39;00m Client(pegasus_home)\n",
      "\u001b[1;31mValueError\u001b[0m: PEGASUS_HOME not found"
     ]
    }
   ],
   "source": [
    "from Pegasus.api import *\n",
    "\n",
    "# 设置属性和目录\n",
    "props = Properties()\n",
    "props[\"pegasus.monitord.encoding\"] = \"json\"\n",
    "props.write()\n",
    "\n",
    "# 定义 Transformations 和 Executable\n",
    "tc = TransformationCatalog()\n",
    "merge_sort_exe = Transformation(\n",
    "    \"merge_sort\",\n",
    "    site=\"local\",\n",
    "    pfn=\"python C:/Users/frank/Documents/GitHub/Jup2Kub/example/pegasus/merge_sort_script.py\",\n",
    "    is_stageable=True\n",
    ")\n",
    "bubble_sort_exe = Transformation(\n",
    "    \"bubble_sort\",\n",
    "    site=\"local\",\n",
    "    pfn=\"python C:/Users/frank/Documents/GitHub/Jup2Kub/example/pegasus/bubble_sort_script.py\",\n",
    "    is_stageable=True\n",
    ")\n",
    "tc.add_transformations(merge_sort_exe, bubble_sort_exe)\n",
    "\n",
    "# 创建工作流\n",
    "wf = Workflow(\"sorting_workflow\")\n",
    "wf.add_transformation_catalog(tc)\n",
    "\n",
    "# 定义文件和作业\n",
    "random_numbers = File(\"random_numbers.txt\")\n",
    "merge_job = Job(merge_sort_exe)\\\n",
    "    .add_args(random_numbers, 3)\\\n",
    "    .add_inputs(random_numbers)\n",
    "\n",
    "bubble_job = Job(bubble_sort_exe)\\\n",
    "    .add_args(random_numbers, 3)\\\n",
    "    .add_inputs(random_numbers)\n",
    "\n",
    "wf.add_jobs(merge_job, bubble_job)\n",
    "\n",
    "# 计划和提交工作流\n",
    "wf.plan(submit=True)\n"
   ]
  },
  {
   "cell_type": "code",
   "execution_count": null,
   "id": "763efbcd-c858-4d48-8cbe-4dc6a1205be7",
   "metadata": {},
   "outputs": [],
   "source": []
  }
 ],
 "metadata": {
  "kernelspec": {
   "display_name": "Python 3 (ipykernel)",
   "language": "python",
   "name": "python3"
  },
  "language_info": {
   "codemirror_mode": {
    "name": "ipython",
    "version": 3
   },
   "file_extension": ".py",
   "mimetype": "text/x-python",
   "name": "python",
   "nbconvert_exporter": "python",
   "pygments_lexer": "ipython3",
   "version": "3.12.1"
  }
 },
 "nbformat": 4,
 "nbformat_minor": 5
}
