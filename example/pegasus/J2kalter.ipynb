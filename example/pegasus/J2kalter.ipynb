{
 "cells": [
  {
   "cell_type": "code",
   "execution_count": 1,
   "id": "2fbe24e1-eeb4-45aa-bf30-eeefb4a0e9fd",
   "metadata": {},
   "outputs": [],
   "source": [
    "import numpy as np\n",
    "import time\n",
    "import os\n",
    "output_file_dir = './../data'\n",
    "n_iteration = 1"
   ]
  },
  {
   "cell_type": "code",
   "execution_count": 2,
   "id": "3bb4a9f9-ce57-443f-a905-17f0d8bb2d2a",
   "metadata": {},
   "outputs": [],
   "source": [
    "def bubble_sort(arr):\n",
    "    n = len(arr)\n",
    "    for i in range(n):\n",
    "        for j in range(0, n-i-1):\n",
    "            if arr[j] > arr[j+1]:\n",
    "                arr[j], arr[j+1] = arr[j+1], arr[j]\n",
    "\n",
    "start_time = time.time()\n",
    "for i in range(n_iteration):\n",
    "    random_numbers = np.random.randint(1, 10000, 10000)\n",
    "    bubble_sort(random_numbers)\n",
    "end_time = time.time()\n",
    "\n",
    "res = f\"Function run time: {(end_time - start_time) / n_iteration} seconds\"\n",
    "current_time = time.strftime(\"%Y-%m-%d %H:%M:%S\", time.localtime())\n",
    "\n",
    "with open(os.path.join(output_file_dir, \"bubble_sort_times.txt\"), \"w\") as file:\n",
    "    file.write(res)\n",
    "    file.write(current_time)\n",
    "\n"
   ]
  },
  {
   "cell_type": "code",
   "execution_count": 3,
   "id": "a412854b-aefc-45ae-8973-4cf83fc98bcf",
   "metadata": {},
   "outputs": [],
   "source": [
    "\n",
    "\n",
    "def merge_sort(arr):\n",
    "    if len(arr) > 1:\n",
    "        mid = len(arr) // 2\n",
    "        L = arr[:mid]\n",
    "        R = arr[mid:]\n",
    "\n",
    "        merge_sort(L)\n",
    "        merge_sort(R)\n",
    "\n",
    "        i = j = k = 0\n",
    "\n",
    "        while i < len(L) and j < len(R):\n",
    "            if L[i] < R[j]:\n",
    "                arr[k] = L[i]\n",
    "                i += 1\n",
    "            else:\n",
    "                arr[k] = R[j]\n",
    "                j += 1\n",
    "            k += 1\n",
    "\n",
    "        while i < len(L):\n",
    "            arr[k] = L[i]\n",
    "            i += 1\n",
    "            k += 1\n",
    "\n",
    "        while j < len(R):\n",
    "            arr[k] = R[j]\n",
    "            j += 1\n",
    "            k += 1\n",
    "\n",
    "start_time = time.time()\n",
    "for i in range(3):  # Repeat the sort 3 times to find the average time\n",
    "    random_numbers = np.random.randint(1, 10000, 10000)\n",
    "    merge_sort(random_numbers)\n",
    "end_time = time.time()\n",
    "\n",
    "res = f\"Function run time: {(end_time - start_time) / n_iteration} seconds\"\n",
    "current_time = time.strftime(\"%Y-%m-%d %H:%M:%S\", time.localtime())\n",
    "with open(os.path.join(output_file_dir, \"merge_sort_times.txt\"), \"w\") as file:\n",
    "    file.write(res)\n",
    "    file.write(current_time)\n"
   ]
  }
 ],
 "metadata": {
  "kernelspec": {
   "display_name": "Python 3 (ipykernel)",
   "language": "python",
   "name": "python3"
  },
  "language_info": {
   "codemirror_mode": {
    "name": "ipython",
    "version": 3
   },
   "file_extension": ".py",
   "mimetype": "text/x-python",
   "name": "python",
   "nbconvert_exporter": "python",
   "pygments_lexer": "ipython3",
   "version": "3.12.1"
  }
 },
 "nbformat": 4,
 "nbformat_minor": 5
}
