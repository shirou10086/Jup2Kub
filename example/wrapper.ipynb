{
 "cells": [
  {
   "cell_type": "code",
   "execution_count": 6,
   "id": "f166e0e4-a48d-408f-9bef-04c3b408bb6d",
   "metadata": {},
   "outputs": [
    {
     "name": "stderr",
     "output_type": "stream",
     "text": [
      "[sudo] jinli 的密码： "
     ]
    },
    {
     "name": "stdout",
     "output_type": "stream",
     "text": [
      "命中:1 http://security.ubuntu.com/ubuntu mantic-security InRelease\n",
      "命中:2 http://cn.archive.ubuntu.com/ubuntu mantic InRelease\n",
      "命中:3 http://cn.archive.ubuntu.com/ubuntu mantic-updates InRelease\n",
      "命中:4 http://cn.archive.ubuntu.com/ubuntu mantic-backports InRelease\n",
      "获取:5 https://mirrors.tuna.tsinghua.edu.cn/docker-ce/linux/ubuntu lunar InRelease [48.8 kB]\n",
      "已下载 48.8 kB，耗时 2秒 (22.7 kB/s)\n",
      "正在读取软件包列表...\n",
      "正在读取软件包列表...\n",
      "正在分析软件包的依赖关系树...\n",
      "正在读取状态信息...\n"
     ]
    },
    {
     "name": "stderr",
     "output_type": "stream",
     "text": [
      "[sudo] jinli 的密码： "
     ]
    },
    {
     "name": "stdout",
     "output_type": "stream",
     "text": [
      "g++ 已经是最新版 (4:13.2.0-1ubuntu1)。\n",
      "升级了 0 个软件包，新安装了 0 个软件包，要卸载 0 个软件包，有 136 个软件包未被升级。\n",
      "Sum: 15\n",
      "\n"
     ]
    }
   ],
   "source": [
    "import os\n",
    "import subprocess\n",
    "\n",
    "# set your password here !!!!!!!!!!!!important !!!!!!!!!!!!!!!!!!!!\n",
    "password = '990624'\n",
    "\n",
    "def run_command_with_sudo(command):\n",
    "    os.system(f'echo {password} | sudo -S {command}')\n",
    "\n",
    "# Install g++ \n",
    "run_command_with_sudo('apt-get update')\n",
    "run_command_with_sudo('apt-get install -y g++ ')\n",
    "#or without sudo:\n",
    "#os.system('apt-get update')\n",
    "#os.system('apt-get install -y g++ ')\n",
    "\n",
    "cpp_code1 = \"\"\"\n",
    "#include <iostream>\n",
    "using namespace std;\n",
    "\n",
    "int main() {\n",
    "    int a, b;\n",
    "    cin >> a >> b;\n",
    "    cout << \"Sum: \" << a + b << endl;\n",
    "    return 0;\n",
    "}\n",
    "\"\"\"\n",
    "\n",
    "with open(\"example1.cpp\", \"w\") as file:\n",
    "    file.write(cpp_code1)\n",
    "\n",
    "os.system(\"g++ -o example1 example1.cpp\")\n",
    "#create the script for cell1\n",
    "shell_script1 = \"\"\"#!/bin/bash\n",
    "input1=$1\n",
    "input2=$2\n",
    "output=$(echo -e \"$input1\\\\n$input2\" | ./example1)\n",
    "echo \"$output\"\n",
    "\"\"\"\n",
    "\n",
    "with open(\"run_example1.sh\", \"w\") as file:\n",
    "    file.write(shell_script1)\n",
    "os.system(\"chmod +x run_example1.sh\")\n",
    "\n",
    "# Wrapper for the first C++ program\n",
    "def run_cpp_program(shell_script, *args):\n",
    "    result = subprocess.run(['./' + shell_script] + list(map(str, args)), capture_output=True, text=True)\n",
    "    return result.stdout\n",
    "\n",
    "# Execute the first program\n",
    "output1 = run_cpp_program(\"run_example1.sh\", 5, 10)\n",
    "print(output1)"
   ]
  },
  {
   "cell_type": "code",
   "execution_count": 5,
   "id": "965bafb2-fceb-4fc1-8f50-da719b19c9a5",
   "metadata": {},
   "outputs": [
    {
     "name": "stderr",
     "output_type": "stream",
     "text": [
      "[sudo] jinli 的密码： "
     ]
    },
    {
     "name": "stdout",
     "output_type": "stream",
     "text": [
      "命中:1 http://security.ubuntu.com/ubuntu mantic-security InRelease\n",
      "命中:2 http://cn.archive.ubuntu.com/ubuntu mantic InRelease\n",
      "命中:3 http://cn.archive.ubuntu.com/ubuntu mantic-updates InRelease\n",
      "命中:4 http://cn.archive.ubuntu.com/ubuntu mantic-backports InRelease\n",
      "获取:5 https://mirrors.tuna.tsinghua.edu.cn/docker-ce/linux/ubuntu lunar InRelease [48.8 kB]\n",
      "已下载 48.8 kB，耗时 3秒 (18.4 kB/s)\n",
      "正在读取软件包列表...\n",
      "正在读取软件包列表...\n",
      "正在分析软件包的依赖关系树...\n",
      "正在读取状态信息...\n"
     ]
    },
    {
     "name": "stderr",
     "output_type": "stream",
     "text": [
      "[sudo] jinli 的密码： "
     ]
    },
    {
     "name": "stdout",
     "output_type": "stream",
     "text": [
      "g++ 已经是最新版 (4:13.2.0-1ubuntu1)。\n",
      "升级了 0 个软件包，新安装了 0 个软件包，要卸载 0 个软件包，有 136 个软件包未被升级。\n",
      "Product: 21\n",
      "\n"
     ]
    }
   ],
   "source": [
    "# install g++ a\n",
    "def run_command_with_sudo(command):\n",
    "    os.system(f'echo {password} | sudo -S {command}')\n",
    "\n",
    "# Install g++ \n",
    "run_command_with_sudo('apt-get update')\n",
    "run_command_with_sudo('apt-get install -y g++')\n",
    "#or without sudo:\n",
    "#os.system('apt-get update')\n",
    "#os.system('apt-get install -y g++ ')\n",
    "\n",
    "cpp_code2 = \"\"\"\n",
    "#include <iostream>\n",
    "using namespace std;\n",
    "\n",
    "int main() {\n",
    "    int a, b;\n",
    "    cin >> a >> b;\n",
    "    cout << \"Product: \" << a * b << endl;\n",
    "    return 0;\n",
    "}\n",
    "\"\"\"\n",
    "\n",
    "with open(\"example2.cpp\", \"w\") as file:\n",
    "    file.write(cpp_code2)\n",
    "\n",
    "\n",
    "os.system(\"g++ -o example2 example2.cpp\")\n",
    "\n",
    "# create script 2\n",
    "shell_script2 = \"\"\"#!/bin/bash\n",
    "input1=$1\n",
    "input2=$2\n",
    "output=$(echo -e \"$input1\\\\n$input2\" | ./example2)\n",
    "echo \"$output\"\n",
    "\"\"\"\n",
    "\n",
    "with open(\"run_example2.sh\", \"w\") as file:\n",
    "    file.write(shell_script2)\n",
    "os.system(\"chmod +x run_example2.sh\")\n",
    "\n",
    "# Wrapper for the second C++ program\n",
    "def run_cpp_program(shell_script, *args):\n",
    "    result = subprocess.run(['./' + shell_script] + list(map(str, args)), capture_output=True, text=True)\n",
    "    return result.stdout\n",
    "output2 = run_cpp_program(\"run_example2.sh\", 7, 3)\n",
    "print(output2)"
   ]
  },
  {
   "cell_type": "code",
   "execution_count": 3,
   "id": "4b9b7557-ff6e-46c2-918a-0603c44e3699",
   "metadata": {},
   "outputs": [
    {
     "name": "stderr",
     "output_type": "stream",
     "text": [
      "[sudo] jinli 的密码： "
     ]
    },
    {
     "name": "stdout",
     "output_type": "stream",
     "text": [
      "命中:1 http://security.ubuntu.com/ubuntu mantic-security InRelease\n",
      "命中:2 http://cn.archive.ubuntu.com/ubuntu mantic InRelease\n",
      "命中:3 http://cn.archive.ubuntu.com/ubuntu mantic-updates InRelease\n",
      "命中:4 http://cn.archive.ubuntu.com/ubuntu mantic-backports InRelease\n",
      "获取:5 https://mirrors.tuna.tsinghua.edu.cn/docker-ce/linux/ubuntu lunar InRelease [48.8 kB]\n",
      "已下载 48.8 kB，耗时 3秒 (18.3 kB/s)\n",
      "正在读取软件包列表...\n",
      "正在读取软件包列表...\n",
      "正在分析软件包的依赖关系树...\n",
      "正在读取状态信息...\n"
     ]
    },
    {
     "name": "stderr",
     "output_type": "stream",
     "text": [
      "[sudo] jinli 的密码： "
     ]
    },
    {
     "name": "stdout",
     "output_type": "stream",
     "text": [
      "g++ 已经是最新版 (4:13.2.0-1ubuntu1)。\n",
      "升级了 0 个软件包，新安装了 0 个软件包，要卸载 0 个软件包，有 136 个软件包未被升级。\n",
      "Sorted: 1 2 5 5 6 9 \n",
      "\n"
     ]
    }
   ],
   "source": [
    "# install g++ a\n",
    "import os\n",
    "def run_command_with_sudo(command):\n",
    "    os.system(f'echo {password} | sudo -S {command}')\n",
    "\n",
    "# Install g++ \n",
    "run_command_with_sudo('apt-get update')\n",
    "run_command_with_sudo('apt-get install -y g++')\n",
    "#or without sudo:\n",
    "#os.system('apt-get update')\n",
    "#os.system('apt-get install -y g++ ')\n",
    "\n",
    "cpp_code3 = \"\"\"\n",
    "#include <iostream>\n",
    "#include <vector>\n",
    "using namespace std;\n",
    "\n",
    "void bubbleSort(vector<int>& arr) {\n",
    "    int n = arr.size();\n",
    "    for (int i = 0; i < n-1; i++) {\n",
    "        for (int j = 0; j < n-i-1; j++) {\n",
    "            if (arr[j] > arr[j+1]) {\n",
    "                swap(arr[j], arr[j+1]);\n",
    "            }\n",
    "        }\n",
    "    }\n",
    "}\n",
    "\n",
    "int main() {\n",
    "    int n;\n",
    "    cin >> n;\n",
    "    vector<int> arr(n);\n",
    "    for (int i = 0; i < n; i++) {\n",
    "        cin >> arr[i];\n",
    "    }\n",
    "    bubbleSort(arr);\n",
    "    cout << \"Sorted: \";\n",
    "    for (int i = 0; i < n; i++) {\n",
    "        cout << arr[i] << \" \";\n",
    "    }\n",
    "    cout << endl;\n",
    "    return 0;\n",
    "}\n",
    "\"\"\"\n",
    "\n",
    "with open(\"example3.cpp\", \"w\") as file:\n",
    "    file.write(cpp_code3)\n",
    "\n",
    "\n",
    "os.system(\"g++ -o example3 example3.cpp\")\n",
    "#create script for cell3\n",
    "shell_script3 = \"\"\"#!/bin/bash\n",
    "input=(\"$@\")\n",
    "echo -e \"${#input[@]}\\\\n${input[@]}\" | ./example3\n",
    "\"\"\"\n",
    "\n",
    "with open(\"run_example3.sh\", \"w\") as file:\n",
    "    file.write(shell_script3)\n",
    "\n",
    "os.system(\"chmod +x run_example3.sh\")\n",
    "def run_cpp_program(shell_script, *args):\n",
    "    result = subprocess.run(['./' + shell_script] + list(map(str, args)), capture_output=True, text=True)\n",
    "    return result.stdout\n",
    "# wrapper\n",
    "output3 = run_cpp_program(\"run_example3.sh\", 5, 2, 9, 1, 5, 6)\n",
    "print(output3)"
   ]
  },
  {
   "cell_type": "code",
   "execution_count": null,
   "id": "35168308-92b8-4051-9006-c04a1e685a6d",
   "metadata": {},
   "outputs": [],
   "source": []
  }
 ],
 "metadata": {
  "kernelspec": {
   "display_name": "Python 3 (ipykernel)",
   "language": "python",
   "name": "python3"
  },
  "language_info": {
   "codemirror_mode": {
    "name": "ipython",
    "version": 3
   },
   "file_extension": ".py",
   "mimetype": "text/x-python",
   "name": "python",
   "nbconvert_exporter": "python",
   "pygments_lexer": "ipython3",
   "version": "3.11.4"
  }
 },
 "nbformat": 4,
 "nbformat_minor": 5
}
