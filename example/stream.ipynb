{
 "cells": [
  {
   "cell_type": "code",
   "execution_count": null,
   "metadata": {},
   "outputs": [],
   "source": [
    "import ResultsHub as rh\n",
    "import time\n",
    "for i in range(50):\n",
    "    x = i\n",
    "    submission = rh.RecursiveSubmission(cell_number=1, host='results-hub-service.default.svc.cluster.local')\n",
    "    submission.addVar(\"x\", x)\n",
    "    submission.submit()\n",
    "    time.sleep(1)"
   ]
  },
  {
   "cell_type": "code",
   "execution_count": null,
   "metadata": {},
   "outputs": [],
   "source": [
    "y = x * 2"
   ]
  },
  {
   "cell_type": "code",
   "execution_count": null,
   "metadata": {},
   "outputs": [],
   "source": [
    "import socket\n",
    "\n",
    "def fib(n):\n",
    "    return n if n < 2 else fib(n-1) + fib(n-2)\n",
    "\n",
    "def send_message(message):\n",
    "    # Create a socket object\n",
    "    client_socket = socket.socket(socket.AF_INET, socket.SOCK_STREAM)\n",
    "    # Connect to the server on localhost and port 12355\n",
    "    client_socket.connect(('outputdb.default.svc.cluster.local', 12355))\n",
    "    \n",
    "    # Send the message\n",
    "    client_socket.sendall(message.encode('utf-8'))\n",
    "    \n",
    "    # Close the socket\n",
    "    client_socket.close()\n",
    "\n",
    "def store_int_in_file(number):\n",
    "    # Convert the integer to a string for the filename\n",
    "    filename = f\"[{number}].txt\"\n",
    "    \n",
    "    # Open the file in write mode and write the integer\n",
    "    with open(filename, 'w') as file:\n",
    "        file.write(str(number))\n",
    "    \n",
    "    print(f\"The integer {number} has been stored in the file named {filename}\")\n",
    "\n",
    "z = fib(y)\n",
    "send_message(str(z))\n",
    "print(z)"
   ]
  }
 ],
 "metadata": {
  "language_info": {
   "name": "python"
  }
 },
 "nbformat": 4,
 "nbformat_minor": 2
}
