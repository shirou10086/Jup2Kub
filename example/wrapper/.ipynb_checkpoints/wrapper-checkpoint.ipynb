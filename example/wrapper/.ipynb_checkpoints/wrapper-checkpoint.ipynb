{
 "cells": [
  {
   "cell_type": "code",
   "execution_count": 1,
   "id": "f166e0e4-a48d-408f-9bef-04c3b408bb6d",
   "metadata": {},
   "outputs": [
    {
     "name": "stderr",
     "output_type": "stream",
     "text": [
      "[sudo] jinli 的密码： "
     ]
    },
    {
     "name": "stdout",
     "output_type": "stream",
     "text": [
      "命中:1 http://security.ubuntu.com/ubuntu mantic-security InRelease\n",
      "命中:2 http://cn.archive.ubuntu.com/ubuntu mantic InRelease\n",
      "命中:3 http://cn.archive.ubuntu.com/ubuntu mantic-updates InRelease\n",
      "命中:4 http://cn.archive.ubuntu.com/ubuntu mantic-backports InRelease\n",
      "获取:5 https://mirrors.tuna.tsinghua.edu.cn/docker-ce/linux/ubuntu lunar InRelease [48.8 kB]\n",
      "已下载 48.8 kB，耗时 3秒 (16.1 kB/s)\n",
      "正在读取软件包列表...\n",
      "正在读取软件包列表...\n",
      "正在分析软件包的依赖关系树...\n",
      "正在读取状态信息...\n"
     ]
    },
    {
     "name": "stderr",
     "output_type": "stream",
     "text": [
      "[sudo] jinli 的密码： "
     ]
    },
    {
     "name": "stdout",
     "output_type": "stream",
     "text": [
      "g++ 已经是最新版 (4:13.2.0-1ubuntu1)。\n",
      "dos2unix 已经是最新版 (7.5.1-1)。\n",
      "升级了 0 个软件包，新安装了 0 个软件包，要卸载 0 个软件包，有 136 个软件包未被升级。\n"
     ]
    },
    {
     "name": "stderr",
     "output_type": "stream",
     "text": [
      "dos2unix: 正在转换文件 run_example1.sh 为Unix格式...\n"
     ]
    },
    {
     "data": {
      "text/plain": [
       "0"
      ]
     },
     "execution_count": 1,
     "metadata": {},
     "output_type": "execute_result"
    }
   ],
   "source": [
    "import os\n",
    "\n",
    "# set your password here !!!!!!!!!!!!important !!!!!!!!!!!!!!!!!!!!\n",
    "password = 'your_passwordxxxxx'\n",
    "\n",
    "# install g++ and dos2unix\n",
    "os.system(f'echo {password} | sudo -S apt-get update')\n",
    "os.system(f'echo {password} | sudo -S apt-get install -y g++ dos2unix')\n",
    "\n",
    "cpp_code1 = \"\"\"\n",
    "#include <iostream>\n",
    "using namespace std;\n",
    "\n",
    "int main() {\n",
    "    int a, b;\n",
    "    cin >> a >> b;\n",
    "    cout << \"Sum: \" << a + b << endl;\n",
    "    return 0;\n",
    "}\n",
    "\"\"\"\n",
    "\n",
    "with open(\"example1.cpp\", \"w\") as file:\n",
    "    file.write(cpp_code1)\n",
    "\n",
    "os.system(\"g++ -o example1 example1.cpp\")\n",
    "#create the script for cell1\n",
    "shell_script1 = \"\"\"#!/bin/bash\n",
    "input1=$1\n",
    "input2=$2\n",
    "output=$(echo -e \"$input1\\\\n$input2\" | ./example1)\n",
    "echo \"$output\"\n",
    "\"\"\"\n",
    "\n",
    "with open(\"run_example1.sh\", \"w\") as file:\n",
    "    file.write(shell_script1)\n",
    "\n",
    "os.system(\"chmod +x run_example1.sh\")\n",
    "os.system(\"dos2unix run_example1.sh\")\n"
   ]
  },
  {
   "cell_type": "code",
   "execution_count": 2,
   "id": "965bafb2-fceb-4fc1-8f50-da719b19c9a5",
   "metadata": {},
   "outputs": [
    {
     "name": "stderr",
     "output_type": "stream",
     "text": [
      "dos2unix: 正在转换文件 run_example2.sh 为Unix格式...\n"
     ]
    },
    {
     "data": {
      "text/plain": [
       "0"
      ]
     },
     "execution_count": 2,
     "metadata": {},
     "output_type": "execute_result"
    }
   ],
   "source": [
    "cpp_code2 = \"\"\"\n",
    "#include <iostream>\n",
    "using namespace std;\n",
    "\n",
    "int main() {\n",
    "    int a, b;\n",
    "    cin >> a >> b;\n",
    "    cout << \"Product: \" << a * b << endl;\n",
    "    return 0;\n",
    "}\n",
    "\"\"\"\n",
    "\n",
    "with open(\"example2.cpp\", \"w\") as file:\n",
    "    file.write(cpp_code2)\n",
    "\n",
    "os.system(\"g++ -o example2 example2.cpp\")\n",
    "\n",
    "# create script 2\n",
    "shell_script2 = \"\"\"#!/bin/bash\n",
    "input1=$1\n",
    "input2=$2\n",
    "output=$(echo -e \"$input1\\\\n$input2\" | ./example2)\n",
    "echo \"$output\"\n",
    "\"\"\"\n",
    "\n",
    "with open(\"run_example2.sh\", \"w\") as file:\n",
    "    file.write(shell_script2)\n",
    "#double check if runable\n",
    "os.system(\"chmod +x run_example2.sh\")\n",
    "os.system(\"dos2unix run_example2.sh\")\n"
   ]
  },
  {
   "cell_type": "code",
   "execution_count": 3,
   "id": "4b9b7557-ff6e-46c2-918a-0603c44e3699",
   "metadata": {},
   "outputs": [
    {
     "name": "stderr",
     "output_type": "stream",
     "text": [
      "dos2unix: 正在转换文件 run_example3.sh 为Unix格式...\n"
     ]
    },
    {
     "data": {
      "text/plain": [
       "0"
      ]
     },
     "execution_count": 3,
     "metadata": {},
     "output_type": "execute_result"
    }
   ],
   "source": [
    "cpp_code3 = \"\"\"\n",
    "#include <iostream>\n",
    "#include <vector>\n",
    "using namespace std;\n",
    "\n",
    "void bubbleSort(vector<int>& arr) {\n",
    "    int n = arr.size();\n",
    "    for (int i = 0; i < n-1; i++) {\n",
    "        for (int j = 0; j < n-i-1; j++) {\n",
    "            if (arr[j] > arr[j+1]) {\n",
    "                swap(arr[j], arr[j+1]);\n",
    "            }\n",
    "        }\n",
    "    }\n",
    "}\n",
    "\n",
    "int main() {\n",
    "    int n;\n",
    "    cin >> n;\n",
    "    vector<int> arr(n);\n",
    "    for (int i = 0; i < n; i++) {\n",
    "        cin >> arr[i];\n",
    "    }\n",
    "    bubbleSort(arr);\n",
    "    cout << \"Sorted: \";\n",
    "    for (int i = 0; i < n; i++) {\n",
    "        cout << arr[i] << \" \";\n",
    "    }\n",
    "    cout << endl;\n",
    "    return 0;\n",
    "}\n",
    "\"\"\"\n",
    "\n",
    "with open(\"example3.cpp\", \"w\") as file:\n",
    "    file.write(cpp_code3)\n",
    "\n",
    "\n",
    "os.system(\"g++ -o example3 example3.cpp\")\n",
    "#create script for cell3\n",
    "shell_script3 = \"\"\"#!/bin/bash\n",
    "input=(\"$@\")\n",
    "echo -e \"${#input[@]}\\\\n${input[@]}\" | ./example3\n",
    "\"\"\"\n",
    "\n",
    "with open(\"run_example3.sh\", \"w\") as file:\n",
    "    file.write(shell_script3)\n",
    "\n",
    "os.system(\"chmod +x run_example3.sh\")\n",
    "os.system(\"dos2unix run_example3.sh\")\n"
   ]
  },
  {
   "cell_type": "code",
   "execution_count": 4,
   "id": "4b763cfb-ed54-413a-bd4c-ec66a3ad1780",
   "metadata": {},
   "outputs": [
    {
     "name": "stdout",
     "output_type": "stream",
     "text": [
      "First wrapper output:\n",
      "Sum: 15\n",
      "\n",
      "Second wrapper output:\n",
      "Product: 21\n",
      "\n",
      "Third wrapper output (sorted list):\n",
      "Sorted: 1 2 5 5 6 9 \n",
      "\n"
     ]
    }
   ],
   "source": [
    "import subprocess\n",
    "\n",
    "# Wrapper for the first C++ program\n",
    "def run_cpp_program1(input1, input2):\n",
    "    # Call the shell script with inputs\n",
    "    result = subprocess.run(['./run_example1.sh', str(input1), str(input2)], capture_output=True, text=True)\n",
    "    # Output from the shell script\n",
    "    output = result.stdout\n",
    "    return output\n",
    "\n",
    "# Wrapper for the second C++ program\n",
    "def run_cpp_program2(input1, input2):\n",
    "    # Call the shell script with inputs\n",
    "    result = subprocess.run(['./run_example2.sh', str(input1), str(input2)], capture_output=True, text=True)\n",
    "    # Output from the shell script\n",
    "    output = result.stdout\n",
    "    return output\n",
    "\n",
    "# Wrapper for the third C++ program (sorting)\n",
    "def run_cpp_program3(*args):\n",
    "    # Call the shell script with inputs\n",
    "    result = subprocess.run(['./run_example3.sh'] + list(map(str, args)), capture_output=True, text=True)\n",
    "    # Output from the shell script\n",
    "    output = result.stdout\n",
    "    return output\n",
    "\n",
    "# fir wrapper\n",
    "input1 = 5\n",
    "input2 = 10\n",
    "output1 = run_cpp_program1(input1, input2)\n",
    "print(\"First wrapper output:\")\n",
    "print(output1)\n",
    "\n",
    "# sec wrapper\n",
    "input1 = 7\n",
    "input2 = 3\n",
    "output2 = run_cpp_program2(input1, input2)\n",
    "print(\"Second wrapper output:\")\n",
    "print(output2)\n",
    "\n",
    "# 3rd wrapper\n",
    "numbers = [5, 2, 9, 1, 5, 6]\n",
    "output3 = run_cpp_program3(*numbers)\n",
    "print(\"Third wrapper output (sorted list):\")\n",
    "print(output3)\n"
   ]
  },
  {
   "cell_type": "code",
   "execution_count": null,
   "id": "b47848a3-ab80-4e00-9ad7-8a7d2b3ad2b1",
   "metadata": {},
   "outputs": [],
   "source": []
  }
 ],
 "metadata": {
  "kernelspec": {
   "display_name": "Python 3 (ipykernel)",
   "language": "python",
   "name": "python3"
  },
  "language_info": {
   "codemirror_mode": {
    "name": "ipython",
    "version": 3
   },
   "file_extension": ".py",
   "mimetype": "text/x-python",
   "name": "python",
   "nbconvert_exporter": "python",
   "pygments_lexer": "ipython3",
   "version": "3.11.4"
  }
 },
 "nbformat": 4,
 "nbformat_minor": 5
}
