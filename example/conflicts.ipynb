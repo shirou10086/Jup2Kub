{
 "cells": [
  {
   "cell_type": "code",
   "execution_count": null,
   "metadata": {},
   "outputs": [],
   "source": [
    "# Create the data directory if it does not exist\n",
    "import os\n",
    "if not os.path.exists('./data'):\n",
    "    os.makedirs('./data')\n",
    "\n",
    "# Writing to docOne.txt and docTwo.txt\n",
    "with open('./data/docOne.txt', 'w') as file1:\n",
    "    file1.write(\"Content for docOne - Initial write.\")\n",
    "\n",
    "with open('./data/docTwo.txt', 'w') as file2:\n",
    "    file2.write(\"Content for docTwo - Initial write.\")\n"
   ]
  },
  {
   "cell_type": "code",
   "execution_count": null,
   "metadata": {},
   "outputs": [],
   "source": [
    "# Reading from docOne.txt\n",
    "with open('./data/docOne.txt', 'r') as file1:\n",
    "    content_docOne = file1.read()\n",
    "print(\"Content of docOne.txt:\")\n",
    "print(content_docOne)\n"
   ]
  },
  {
   "cell_type": "code",
   "execution_count": null,
   "metadata": {},
   "outputs": [],
   "source": [
    "# Reading from docTwo.txt\n",
    "with open('./data/docTwo.txt', 'r') as file2:\n",
    "    content_docTwo = file2.read()\n",
    "print(\"Content of docTwo.txt:\")\n",
    "print(content_docTwo)\n"
   ]
  },
  {
   "cell_type": "code",
   "execution_count": null,
   "metadata": {},
   "outputs": [],
   "source": [
    "# Writing to docOne.txt and docTwo.txt again\n",
    "with open('./data/docOne.txt', 'w') as file1:\n",
    "    file1.write(\"Content for docOne - Second write.\")\n",
    "\n",
    "with open('./data/docTwo.txt', 'w') as file2:\n",
    "    file2.write(\"Content for docTwo - Second write.\")\n"
   ]
  }
 ],
 "metadata": {
  "language_info": {
   "name": "python"
  }
 },
 "nbformat": 4,
 "nbformat_minor": 2
}
