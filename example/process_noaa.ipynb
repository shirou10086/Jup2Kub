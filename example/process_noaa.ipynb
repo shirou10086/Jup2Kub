{
 "cells": [
  {
   "cell_type": "code",
   "execution_count": 6,
   "metadata": {},
   "outputs": [
    {
     "name": "stdout",
     "output_type": "stream",
     "text": [
      "      STATION        DATE   LATITUDE  LONGITUDE  ELEVATION  \\\n",
      "0   841599999  2020-03-13        NaN        NaN        NaN   \n",
      "1   841599999  2020-03-14        NaN        NaN        NaN   \n",
      "2  1001099999  2023-01-01  70.933333  -8.666667        9.0   \n",
      "3  1001099999  2023-01-02  70.933333  -8.666667        9.0   \n",
      "4  1001099999  2023-01-03  70.933333  -8.666667        9.0   \n",
      "\n",
      "                     NAME  TEMP  TEMP_ATTRIBUTES  DEWP  DEWP_ATTRIBUTES  \\\n",
      "0                    XM21  82.7                6  73.2                6   \n",
      "1                    XM21  83.1                8  72.4                8   \n",
      "2  JAN MAYEN NOR NAVY, NO  18.1               24  10.3               24   \n",
      "3  JAN MAYEN NOR NAVY, NO  25.8               24  20.8               24   \n",
      "4  JAN MAYEN NOR NAVY, NO  35.8               24  30.9               24   \n",
      "\n",
      "      SLP  SLP_ATTRIBUTES    STP  STP_ATTRIBUTES  VISIB  VISIB_ATTRIBUTES  \\\n",
      "0  1010.9               6  999.9               0  999.9                 0   \n",
      "1  1008.7               8  999.9               0  999.9                 0   \n",
      "2   981.4              24  980.2              24    4.4                 4   \n",
      "3   999.6              24  998.4              24    4.1                 4   \n",
      "4  1006.1              24    4.9              24    6.4                 4   \n",
      "\n",
      "   WDSP  WDSP_ATTRIBUTES  MXSPD  GUST   MAX MAX_ATTRIBUTES   MIN  \\\n",
      "0  14.5                6   17.1  21.0  83.3              *  82.2   \n",
      "1  11.0                8   14.0  17.1  83.7              *  82.4   \n",
      "2  18.5               24   27.6  51.3  23.5                 12.6   \n",
      "3   6.5               24   16.7  24.7  34.3                 19.4   \n",
      "4  21.1               24   26.4  34.2  37.6                 24.6   \n",
      "\n",
      "  MIN_ATTRIBUTES  PRCP PRCP_ATTRIBUTES   SNDP  FRSHTT  \n",
      "0              *  0.00               I  999.9       0  \n",
      "1              *  0.00               I  999.9       0  \n",
      "2                 0.29               G  999.9    1000  \n",
      "3                 0.05               G  999.9    1000  \n",
      "4                 0.07               G  999.9   10000  \n"
     ]
    }
   ],
   "source": [
    "import pandas as pd\n",
    "import numpy as np\n",
    "import csv\n",
    "import time\n",
    "\n",
    "print(time.ctime())\n",
    "# This setting helps to display all the columns in the dataframe\n",
    "pd.set_option('display.max_columns', None)\n",
    "\n",
    "# Define the CSV file path\n",
    "file_path = './data/noaa.csv'\n",
    "\n",
    "# Define column names as there are no headers in the CSV file\n",
    "columns = ['STATION', 'DATE', 'LATITUDE', 'LONGITUDE', 'ELEVATION', 'NAME', 'TEMP',\n",
    "           'TEMP_ATTRIBUTES', 'DEWP', 'DEWP_ATTRIBUTES', 'SLP', 'SLP_ATTRIBUTES',\n",
    "           'STP', 'STP_ATTRIBUTES', 'VISIB', 'VISIB_ATTRIBUTES', 'WDSP', 'WDSP_ATTRIBUTES',\n",
    "           'MXSPD', 'GUST', 'MAX', 'MAX_ATTRIBUTES', 'MIN', 'MIN_ATTRIBUTES',\n",
    "           'PRCP', 'PRCP_ATTRIBUTES', 'SNDP', 'FRSHTT']\n",
    "\n",
    "# Read the CSV file\n",
    "data = pd.read_csv(file_path, header=None, names=columns, low_memory=False)\n",
    "print(data.head())\n"
   ]
  },
  {
   "cell_type": "code",
   "execution_count": 7,
   "metadata": {},
   "outputs": [
    {
     "name": "stdout",
     "output_type": "stream",
     "text": [
      "      STATION        DATE   LATITUDE  LONGITUDE  ELEVATION  \\\n",
      "0   841599999  2020-03-13        NaN        NaN        NaN   \n",
      "1   841599999  2020-03-14        NaN        NaN        NaN   \n",
      "2  1001099999  2023-01-01  70.933333  -8.666667        9.0   \n",
      "3  1001099999  2023-01-02  70.933333  -8.666667        9.0   \n",
      "4  1001099999  2023-01-03  70.933333  -8.666667        9.0   \n",
      "\n",
      "                     NAME  TEMP  DEWP     SLP    STP  VISIB  WDSP  MXSPD  \\\n",
      "0                    XM21  82.7  73.2  1010.9  999.9  999.9  14.5   17.1   \n",
      "1                    XM21  83.1  72.4  1008.7  999.9  999.9  11.0   14.0   \n",
      "2  JAN MAYEN NOR NAVY, NO  18.1  10.3   981.4  980.2    4.4  18.5   27.6   \n",
      "3  JAN MAYEN NOR NAVY, NO  25.8  20.8   999.6  998.4    4.1   6.5   16.7   \n",
      "4  JAN MAYEN NOR NAVY, NO  35.8  30.9  1006.1    4.9    6.4  21.1   26.4   \n",
      "\n",
      "   GUST   MAX   MIN  PRCP  \n",
      "0  21.0  83.3  82.2  0.00  \n",
      "1  17.1  83.7  82.4  0.00  \n",
      "2  51.3  23.5  12.6  0.29  \n",
      "3  24.7  34.3  19.4  0.05  \n",
      "4  34.2  37.6  24.6  0.07  \n"
     ]
    }
   ],
   "source": [
    "# Cell 2: Filter out unnecessary columns\n",
    "\n",
    "# Dropping columns that are not required for the analysis\n",
    "data = data.drop(columns=['TEMP_ATTRIBUTES', 'DEWP_ATTRIBUTES', 'SLP_ATTRIBUTES', 'STP_ATTRIBUTES',\n",
    "                          'VISIB_ATTRIBUTES', 'WDSP_ATTRIBUTES', 'MAX_ATTRIBUTES', 'MIN_ATTRIBUTES',\n",
    "                          'PRCP_ATTRIBUTES', 'SNDP', 'FRSHTT'])\n",
    "print(data.head())"
   ]
  },
  {
   "cell_type": "code",
   "execution_count": 9,
   "metadata": {},
   "outputs": [
    {
     "name": "stdout",
     "output_type": "stream",
     "text": [
      "      STATION        DATE   LATITUDE  LONGITUDE  ELEVATION  \\\n",
      "2  1001099999  2023-01-01  70.933333  -8.666667        9.0   \n",
      "3  1001099999  2023-01-02  70.933333  -8.666667        9.0   \n",
      "4  1001099999  2023-01-03  70.933333  -8.666667        9.0   \n",
      "5  1001099999  2023-01-04  70.933333  -8.666667        9.0   \n",
      "6  1001099999  2023-01-05  70.933333  -8.666667        9.0   \n",
      "\n",
      "                     NAME  TEMP  DEWP     SLP    STP  VISIB  WDSP  MXSPD  \\\n",
      "2  JAN MAYEN NOR NAVY, NO  18.1  10.3   981.4  980.2    4.4  18.5   27.6   \n",
      "3  JAN MAYEN NOR NAVY, NO  25.8  20.8   999.6  998.4    4.1   6.5   16.7   \n",
      "4  JAN MAYEN NOR NAVY, NO  35.8  30.9  1006.1    4.9    6.4  21.1   26.4   \n",
      "5  JAN MAYEN NOR NAVY, NO  37.0  32.1  1010.6    9.4   10.1  17.7   21.2   \n",
      "6  JAN MAYEN NOR NAVY, NO  35.4  29.7  1015.4   14.2   12.4  15.9   20.8   \n",
      "\n",
      "   GUST   MAX   MIN  PRCP  \n",
      "2  51.3  23.5  12.6  0.29  \n",
      "3  24.7  34.3  19.4  0.05  \n",
      "4  34.2  37.6  24.6  0.07  \n",
      "5  33.0  37.8  35.6  0.04  \n",
      "6  26.0  37.4  32.2  0.01  \n"
     ]
    }
   ],
   "source": [
    "# Cell 3: Handle Missing Values\n",
    "# Replace placeholder values 999.9 and 9999.9 with NaN\n",
    "placeholder_values = [9999.9, 999.9]  # Adjust as needed\n",
    "for value in placeholder_values:\n",
    "    data.replace(value, np.nan, inplace=True)\n",
    "\n",
    "# Fill missing values or drop them based on the analysis requirement\n",
    "# For instance, filling missing temperature values with the average temperature\n",
    "data['TEMP'] = data['TEMP'].fillna(data['TEMP'].mean())\n",
    "print(data.head())\n",
    "# Remove rows where any of the remaining relevant columns are still missing\n",
    "data.dropna(subset=['DEWP', 'SLP', 'STP', 'VISIB', 'WDSP', 'MXSPD', 'MAX', 'MIN', 'PRCP'], inplace=True)"
   ]
  },
  {
   "cell_type": "code",
   "execution_count": 4,
   "metadata": {},
   "outputs": [],
   "source": [
    "# Cell 5: Filter for More Extreme Conditions in Fahrenheit\n",
    "\n",
    "# Filter for days with extremely high or extremely low temperatures\n",
    "extreme_temps = data[(data['TEMP'] > 100) | (data['TEMP'] < 20)]\n",
    "extreme_temps.head()"
   ]
  },
  {
   "cell_type": "code",
   "execution_count": 5,
   "metadata": {},
   "outputs": [
    {
     "name": "stdout",
     "output_type": "stream",
     "text": [
      "Data successfully written to extreme_weather_conditions.csv\n"
     ]
    }
   ],
   "source": [
    "filename = './data/extreme_weather_conditions.csv'\n",
    "\n",
    "# Open the file in write mode\n",
    "with open(filename, mode='w', newline='') as file:\n",
    "    # Create a CSV writer object\n",
    "    writer = csv.writer(file)\n",
    "\n",
    "    # Write the headers\n",
    "    writer.writerow(extreme_temps.columns.tolist())\n",
    "\n",
    "    # Write the data rows\n",
    "    for index, row in extreme_temps.iterrows():\n",
    "        writer.writerow(row.tolist())\n",
    "\n",
    "print(f\"Data successfully written to {filename}\")\n",
    "print(time.ctime())"
   ]
  },
  {
   "cell_type": "code",
   "execution_count": null,
   "metadata": {},
   "outputs": [],
   "source": []
  }
 ],
 "metadata": {
  "kernelspec": {
   "display_name": "base",
   "language": "python",
   "name": "python3"
  },
  "language_info": {
   "codemirror_mode": {
    "name": "ipython",
    "version": 3
   },
   "file_extension": ".py",
   "mimetype": "text/x-python",
   "name": "python",
   "nbconvert_exporter": "python",
   "pygments_lexer": "ipython3",
   "version": "3.9.16"
  }
 },
 "nbformat": 4,
 "nbformat_minor": 2
}
