{
 "cells": [
  {
   "cell_type": "code",
   "execution_count": null,
   "id": "11dfac82-3ffb-452f-8f37-22f57e41064b",
   "metadata": {},
   "outputs": [],
   "source": [
    "#R\n",
    "# Define a function to create a sequence\n",
    "create_sequence <- function(start, end) {\n",
    "  seq_data <- seq(start, end)\n",
    "  return(seq_data)\n",
    "}\n",
    "\n",
    "# Create a sequence from 1 to 10\n",
    "sequence <- create_sequence(1, 10)\n"
   ]
  },
  {
   "cell_type": "code",
   "execution_count": null,
   "id": "cd549464-4dd5-4ddb-87da-58a03e93ba49",
   "metadata": {},
   "outputs": [],
   "source": [
    "#R\n",
    "# Define a function to calculate square of each element\n",
    "square_values <- function(numbers) {\n",
    "  squared <- numbers^2\n",
    "  return(squared)\n",
    "}\n",
    "\n",
    "# Use the sequence from the previous cell\n",
    "squared_sequence <- square_values(sequence)\n",
    "sequences <- create_sequence(1, 10)"
   ]
  },
  {
   "cell_type": "code",
   "execution_count": null,
   "id": "ee35f35c-9c86-4842-ba93-7c18ec9939a6",
   "metadata": {},
   "outputs": [],
   "source": [
    "#R\n",
    "# Define a function to calculate the sum of an array\n",
    "sum_values <- function(numbers) {\n",
    "  sum_result <- sum(numbers)\n",
    "  return(sum_result)\n",
    "}\n",
    "\n",
    "# Use the squared values from the previous cell\n",
    "sum_of_squares <- sum_values(squared_sequence)\n"
   ]
  },
  {
   "cell_type": "code",
   "execution_count": null,
   "id": "c31380ed-2579-4897-b814-74c4e36b96e1",
   "metadata": {},
   "outputs": [],
   "source": [
    "#R\n",
    "# Define a function to check if sum is above a threshold\n",
    "check_threshold <- function(total, threshold) {\n",
    "  result <- ifelse(total > threshold, TRUE, FALSE)\n",
    "  return(result)\n",
    "}\n",
    "\n",
    "# Check if sum_of_squares is greater than 100\n",
    "threshold_result <- check_threshold(sum_of_squares, 100)\n"
   ]
  },
  {
   "cell_type": "code",
   "execution_count": null,
   "id": "f36b95c2-4aa9-4eda-be1a-258109b347f9",
   "metadata": {},
   "outputs": [],
   "source": [
    "#R\n",
    "# Function to display final results\n",
    "display_results <- function(sequence, squared_sequence, sum_of_squares, threshold_result) {\n",
    "  print(paste(\"Original sequence:\", toString(sequence)))\n",
    "  print(paste(\"Squared sequence:\", toString(squared)))\n",
    "  print(paste(\"Sum of squares:\", sum_sq))\n",
    "  print(paste(\"Is sum above 100?\", threshold_res))\n",
    "}\n",
    "\n",
    "# Displaying all results\n",
    "display_results(sequence, squared_sequence, sum_of_squares, threshold_result)\n"
   ]
  }
 ],
 "metadata": {
  "kernelspec": {
   "display_name": "Python 3 (ipykernel)",
   "language": "python",
   "name": "python3"
  },
  "language_info": {
   "codemirror_mode": {
    "name": "ipython",
    "version": 3
   },
   "file_extension": ".py",
   "mimetype": "text/x-python",
   "name": "python",
   "nbconvert_exporter": "python",
   "pygments_lexer": "ipython3",
   "version": "3.12.1"
  }
 },
 "nbformat": 4,
 "nbformat_minor": 5
}
